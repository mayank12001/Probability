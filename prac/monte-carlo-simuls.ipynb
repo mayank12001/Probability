{
 "cells": [
  {
   "cell_type": "code",
   "execution_count": 94,
   "metadata": {},
   "outputs": [],
   "source": [
    "import random"
   ]
  },
  {
   "cell_type": "code",
   "execution_count": 95,
   "metadata": {},
   "outputs": [],
   "source": [
    "# Sample space: It is the set of all the possible outcomes of our experiment\n",
    "SampleSpace=['H','T']\n",
    "\n",
    "# Probailities of each element in the sample space\n",
    "Prob=[0.5,0.5]\n",
    "\n",
    "# A dictionary representing the possible outcomes and their chances\n",
    "Prob_dict = dict(zip(SampleSpace, Prob))"
   ]
  },
  {
   "cell_type": "code",
   "execution_count": 96,
   "metadata": {},
   "outputs": [],
   "source": [
    "# Defining a function that performs the experiment for a given sample space and probabilities\n",
    "def Perform_Exp(SampleSpace, Prob):\n",
    "    return random.choices(SampleSpace, Prob)"
   ]
  },
  {
   "cell_type": "code",
   "execution_count": 109,
   "metadata": {},
   "outputs": [],
   "source": [
    "# Repeating the experiment multiple times and observing the sample outcomes of those experiments.\n",
    "\n",
    "# Number of times to repeat the experiment\n",
    "Num_of_Exp=200\n",
    "\n",
    "# Collecting sample outcomes\n",
    "Samples = []\n",
    "for i in range (Num_of_Exp):\n",
    "    Samples+=Perform_Exp(SampleSpace, Prob)\n",
    "# print(Samples)"
   ]
  },
  {
   "cell_type": "code",
   "execution_count": 110,
   "metadata": {},
   "outputs": [
    {
     "name": "stdout",
     "output_type": "stream",
     "text": [
      "Number of desired outcomes =  96\n",
      "Monte Carlo estimate of probability =  0.48\n",
      "Error in the probability estimate of head =  0.020000000000000018\n"
     ]
    }
   ],
   "source": [
    "# Interpreting probability as fraction of desired outcomes by total number of outcomes\n",
    "\n",
    "# Let us say desired outcome is head\n",
    "desired_out='H'\n",
    "\n",
    "# Counting total number of desired outcome\n",
    "Num_of_desired_outcomes=len([sample for sample in Samples if sample==desired_out])\n",
    "print('Number of desired outcomes = ', Num_of_desired_outcomes)\n",
    "\n",
    "Estimated_probability=Num_of_desired_outcomes/Num_of_Exp\n",
    "print('Monte Carlo estimate of probability = ',Estimated_probability)\n",
    "\n",
    "# Error in probability estimate\n",
    "print('Error in the probability estimate of head = ',Prob_dict['H']- Estimated_probability)"
   ]
  },
  {
   "cell_type": "code",
   "execution_count": 111,
   "metadata": {},
   "outputs": [],
   "source": [
    "import matplotlib.pyplot as plt\n",
    "%matplotlib inline\n",
    "import numpy as np"
   ]
  },
  {
   "cell_type": "code",
   "execution_count": 112,
   "metadata": {},
   "outputs": [],
   "source": [
    "#Defining function to collect estimated probability and error in estimate\n",
    "def eval_Probability_and_Error(Samples, desired_out, Num_of_Exp):\n",
    "    Estimated_Probability=[]\n",
    "    Err_in_Estimate=[]\n",
    "    count=0\n",
    "    for index in range(Num_of_Exp):\n",
    "        if Samples[index]==desired_out:\n",
    "            count = count + 1\n",
    "        val = count/(1+index)\n",
    "        Estimated_Probability.append(val)\n",
    "        Err_in_Estimate.append(Prob_dict[desired_out]- Estimated_Probability[index])\n",
    "    return Estimated_Probability, Err_in_Estimate"
   ]
  },
  {
   "cell_type": "code",
   "execution_count": 113,
   "metadata": {
    "scrolled": true
   },
   "outputs": [],
   "source": [
    "# Defining estimation error as a function of the total number of estimates in bar plot \n",
    "def estimated_prob_vs_error_estimate_bar_plot(Samples, desired_out, Num_of_Exp):\n",
    "    est_prob=[]\n",
    "    err_est=[]\n",
    "    est_prob, err_est = eval_Probability_and_Error(Samples, desired_out, Num_of_Exp)\n",
    "    x=np.arange(Num_of_Exp)\n",
    "    y1=np.asarray(est_prob)\n",
    "    y2=np.asarray(err_est)\n",
    "    plt.figure(figsize=(18,5))\n",
    "    plt.bar(x, +y1, facecolor='#9999ff', edgecolor='white')\n",
    "    plt.bar(x, -y2, facecolor='#ff9999', edgecolor='white')\n",
    "    plt.show()"
   ]
  },
  {
   "cell_type": "code",
   "execution_count": 115,
   "metadata": {},
   "outputs": [
    {
     "data": {
      "image/png": "[encoded data removed]",
      "text/plain": [
       "<Figure size 1296x360 with 1 Axes>"
      ]
     },
     "metadata": {
      "needs_background": "light"
     },
     "output_type": "display_data"
    }
   ],
   "source": [
    "# Plot of estimated error as function of number of total estimates\n",
    "estimated_prob_vs_error_estimate_bar_plot(Samples, 'T', Num_of_Exp)"
   ]
  },
  {
   "cell_type": "code",
   "execution_count": 117,
   "metadata": {},
   "outputs": [
    {
     "data": {
      "image/png": "[encoded data removed]",
      "text/plain": [
       "<Figure size 1296x360 with 1 Axes>"
      ]
     },
     "metadata": {
      "needs_background": "light"
     },
     "output_type": "display_data"
    }
   ],
   "source": [
    "#2. Solving for biased coin with probability of head being 0.1\n",
    "\n",
    "# Update probailities of each element in the sample space\n",
    "Prob=[0.1,0.9]\n",
    "\n",
    "# refresh dictionary of the possible outcomes and their chances\n",
    "Prob_dict = dict(zip(SampleSpace, Prob))\n",
    "\n",
    "# Collecting sample outcomes\n",
    "Samples = []\n",
    "for i in range (Num_of_Exp):\n",
    "    Samples+=Perform_Exp(SampleSpace, Prob)\n",
    "\n",
    "# Plot of estimated error as function of number of total estimates\n",
    "estimated_prob_vs_error_estimate_bar_plot(Samples, 'T', Num_of_Exp)"
   ]
  },
  {
   "cell_type": "code",
   "execution_count": 90,
   "metadata": {},
   "outputs": [
    {
     "data": {
      "text/plain": [
       "['HHH', 'HHT', 'HTH', 'HTT', 'THH', 'THT', 'TTH', 'TTT']"
      ]
     },
     "execution_count": 90,
     "metadata": {},
     "output_type": "execute_result"
    }
   ],
   "source": [
    "#3. Solving for an experiment where a fair coin is tossed 3 times\n",
    "\n",
    "# Defining sample space\n",
    "# arr=['H','T']\n",
    "# samples=[]\n",
    "# def combinations(n):  \n",
    "#     if n == 1:\n",
    "#         return ['H','T']\n",
    "#     else:\n",
    "#         for i in range(len(combinations(n-1))):\n",
    "#             for j in range(len(combinations(1))):\n",
    "#                 samples.append(combinations(n-1)[i]+combinations(1)[j])\n",
    "#         arr=samples\n",
    "#     return samples\n",
    "# combinations(3)\n",
    "\n",
    "sample_space_three=[]\n",
    "for i in SampleSpace:\n",
    "    for j in SampleSpace:\n",
    "        for k in SampleSpace:\n",
    "            sample_space_three.append(i+j+k)\n",
    "sample_space_three"
   ]
  },
  {
   "cell_type": "code",
   "execution_count": 119,
   "metadata": {},
   "outputs": [
    {
     "data": {
      "image/png": "[encoded data removed]",
      "text/plain": [
       "<Figure size 1296x360 with 1 Axes>"
      ]
     },
     "metadata": {
      "needs_background": "light"
     },
     "output_type": "display_data"
    }
   ],
   "source": [
    "# Update probailities of each element in the sample space\n",
    "Prob=[0.125,0.125,0.125,0.125,0.125,0.125,0.125,0.125]\n",
    "\n",
    "# refresh dictionary of the possible outcomes and their chances\n",
    "Prob_dict = dict(zip(sample_space_three, Prob))\n",
    "\n",
    "# Collecting sample outcomes\n",
    "Samples = []\n",
    "for i in range (Num_of_Exp):\n",
    "    Samples+=Perform_Exp(sample_space_three, Prob)\n",
    "\n",
    "# Plot of estimated error as function of number of total estimates\n",
    "estimated_prob_vs_error_estimate_bar_plot(Samples, 'TTT', Num_of_Exp)"
   ]
  },
  {
   "cell_type": "code",
   "execution_count": null,
   "metadata": {},
   "outputs": [],
   "source": []
  }
 ],
 "metadata": {
  "kernelspec": {
   "display_name": "Python 3",
   "language": "python",
   "name": "python3"
  },
  "language_info": {
   "codemirror_mode": {
    "name": "ipython",
    "version": 3
   },
   "file_extension": ".py",
   "mimetype": "text/x-python",
   "name": "python",
   "nbconvert_exporter": "python",
   "pygments_lexer": "ipython3",
   "version": "3.7.1"
  }
 },
 "nbformat": 4,
 "nbformat_minor": 2
}
